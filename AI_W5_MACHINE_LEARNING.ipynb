{
  "nbformat": 4,
  "nbformat_minor": 0,
  "metadata": {
    "colab": {
      "provenance": [],
      "authorship_tag": "ABX9TyOpfIoxT23CTJ+f1UThnKYl",
      "include_colab_link": true
    },
    "kernelspec": {
      "name": "python3",
      "display_name": "Python 3"
    },
    "language_info": {
      "name": "python"
    }
  },
  "cells": [
    {
      "cell_type": "markdown",
      "metadata": {
        "id": "view-in-github",
        "colab_type": "text"
      },
      "source": [
        "<a href=\"https://colab.research.google.com/github/ArmstrongVo/ArmstrongVo.github.io/blob/main/AI_W5_MACHINE_LEARNING.ipynb\" target=\"_parent\"><img src=\"https://colab.research.google.com/assets/colab-badge.svg\" alt=\"Open In Colab\"/></a>"
      ]
    },
    {
      "cell_type": "code",
      "execution_count": null,
      "metadata": {
        "id": "zxZPUTNGib5x"
      },
      "outputs": [],
      "source": [
        "from matplotlib import figure\n",
        "#from skfuzzy.membership.generatemf import gaussmf\n",
        "import matplotlib.pyplot as plt\n",
        "#from skfuzzy import control as ctrl \n",
        "import numpy as np\n",
        "#import skfuzzy as fuzz\n",
        "import matplotlib.pyplot as plt\n",
        "from mpl_toolkits.mplot3d import axis3d\n",
        "import pandas as pd\n",
        "url = 'mtcars.csv'\n",
        "data = pd.read_csv(url)\n",
        "data.hist()\n",
        "plt.show \n"
      ]
    },
    {
      "cell_type": "code",
      "source": [
        "# mpg = số dặm đi được trên 1 galon\n",
        "# disp = thể tích buồng đốt\n",
        "# hp = mã lực\n",
        "# wt = khối lượng\n",
        "correlation = data.corr() # mối tương quan giữa các biến, trị số lớn nhất là ảnh hưởng nhiều nhất, TLT HAY TLN  phụ thuộc vào dấu + or -\n",
        "print(correlation)\n",
        "import seaborn as sns\n",
        "sns.heatmap(correlation,annot=True)"
      ],
      "metadata": {
        "id": "VCENvrWgjuu9"
      },
      "execution_count": null,
      "outputs": []
    },
    {
      "cell_type": "code",
      "source": [
        "data.plot(kind = 'scatter', x = 'wt', y='mpg',figsize = (9,9), color = 'black')  \n",
        "#scatter : vẽ dấu chấm"
      ],
      "metadata": {
        "id": "dDLia851kLVQ"
      },
      "execution_count": null,
      "outputs": []
    },
    {
      "cell_type": "code",
      "source": [
        "from sklearn import linear_model\n",
        "model = linear_model.LinearRegression()       # hồi quy tuyến tính\n",
        "model.fit(X=pd.DataFrame(data['wt']),y = data['mpg'])                     # dạy băng lệnh fit     X viết hoa , y viết thường\n",
        "print(model.intercept_)\n",
        "print(model.coef_)\n",
        "model.score(X=pd.DataFrame(data['wt']),y = data['mpg']) # hàm score tính độ chính xác"
      ],
      "metadata": {
        "colab": {
          "base_uri": "https://localhost:8080/"
        },
        "id": "Vi0TNzQLoohq",
        "outputId": "6670158a-dfac-48f3-d4f7-28351a4cd019"
      },
      "execution_count": 14,
      "outputs": [
        {
          "output_type": "stream",
          "name": "stdout",
          "text": [
            "37.28512616734204\n",
            "[-5.34447157]\n"
          ]
        },
        {
          "output_type": "execute_result",
          "data": {
            "text/plain": [
              "0.7528327936582646"
            ]
          },
          "metadata": {},
          "execution_count": 14
        }
      ]
    },
    {
      "cell_type": "code",
      "source": [
        "\n",
        "data.plot(kind = 'scatter', x = 'wt', y='mpg',figsize = (9,9), color = 'black',xlim=(0,7))\n",
        "y_pred=model.predict(X=pd.DataFrame(data['wt'])) \n",
        "plt.plot(data['wt'],y_pred,color = 'blue') \n",
        "\n"
      ],
      "metadata": {
        "id": "jRW-yeshrOIc"
      },
      "execution_count": null,
      "outputs": []
    },
    {
      "cell_type": "code",
      "source": [
        "model = linear_model.LinearRegression()\n",
        "X=pd.DataFrame([data['wt'],data['wt']**2]).T\n",
        "model.fit(X,y=data['mpg'])\n",
        "print('intercept của mô hình',model.intercept_)\n",
        "print('coef của mô hình',model.coef_)\n",
        "print('độ chính xác của mô hình',model.score(X,y=data['mpg']))\n",
        "\n"
      ],
      "metadata": {
        "id": "519iYnV2srXi"
      },
      "execution_count": null,
      "outputs": []
    },
    {
      "cell_type": "code",
      "source": [
        "data.plot(kind = 'scatter', x = 'wt', y='mpg',figsize = (9,9), color = 'black',xlim=(0,7))\n",
        "range = np.arange(1.5,5.5,0.1)\n",
        "predictor = pd.DataFrame([range,range**2]).T\n",
        "y_pred=model.predict(X=predictor)\n",
        "plt.plot(range,y_pred,color='blue')"
      ],
      "metadata": {
        "id": "gco2FKdzuJM1"
      },
      "execution_count": null,
      "outputs": []
    },
    {
      "cell_type": "code",
      "source": [
        "model = linear_model.LinearRegression()\n",
        "X=pd.DataFrame([data['wt'],data['wt']**2,data['wt']**3]).T\n",
        "model.fit(X,y=data['mpg'])\n",
        "print('intercept của mô hình',model.intercept_)\n",
        "print('coef của mô hình',model.coef_)\n",
        "print('độ chính xác của mô hình',model.score(X,y=data['mpg']))\n",
        "data.plot(kind = 'scatter', x = 'wt', y='mpg',figsize = (9,9), color = 'black',xlim=(0,15))\n",
        "range = np.arange(1.5,10.5,0.1)\n",
        "predictor = pd.DataFrame([range,range**2,range**3]).T\n",
        "y_pred=model.predict(X=predictor)\n",
        "plt.plot(range,y_pred,color='blue')\n"
      ],
      "metadata": {
        "id": "yYMF-j2iv5-Z"
      },
      "execution_count": null,
      "outputs": []
    },
    {
      "cell_type": "code",
      "source": [
        "model = linear_model.LinearRegression()\n",
        "X=pd.DataFrame([data['wt'],data['wt']**2,data['wt']**3,data['wt']**4,data['wt']**5]).T\n",
        "model.fit(X,y=data['mpg'])\n",
        "print('intercept của mô hình',model.intercept_)\n",
        "print('coef của mô hình',model.coef_)\n",
        "print('độ chính xác của mô hình',model.score(X,y=data['mpg']))\n",
        "data.plot(kind = 'scatter', x = 'wt', y='mpg',figsize = (9,9), color = 'black',xlim=(0,6))\n",
        "range = np.arange(1.5,5.5,0.1)\n",
        "predictor = pd.DataFrame([range,range**2,range**3,range**4,range**5]).T\n",
        "y_pred=model.predict(X=predictor)\n",
        "plt.plot(range,y_pred,color='blue')\n"
      ],
      "metadata": {
        "id": "9N6d43K2xqWY"
      },
      "execution_count": null,
      "outputs": []
    },
    {
      "cell_type": "code",
      "source": [
        "model = linear_model.LinearRegression()\n",
        "X=pd.DataFrame([data['wt'],data['wt']**2,data['wt']**3,data['wt']**4,data['wt']**5,data['wt']**6,data['wt']**7,data['wt']**8,data['wt']**9,data['wt']**10]).T\n",
        "model.fit(X,y=data['mpg'])\n",
        "print('intercept của mô hình',model.intercept_)\n",
        "print('coef của mô hình',model.coef_)\n",
        "print('độ chính xác của mô hình',model.score(X,y=data['mpg']))\n",
        "data.plot(kind = 'scatter', x = 'wt', y='mpg',figsize = (9,9), color = 'black',xlim=(0,6))\n",
        "range = np.arange(1.5,5.5,0.1)\n",
        "predictor = pd.DataFrame([range,range**2,range**3,range**4,range**5,range**6,range**7,range**8,range**9,range**10]).T\n",
        "y_pred=model.predict(X=predictor)\n",
        "plt.plot(range,y_pred,color='blue')"
      ],
      "metadata": {
        "id": "zdYs1NaSyQn-"
      },
      "execution_count": null,
      "outputs": []
    },
    {
      "cell_type": "code",
      "source": [
        "model = linear_model.LinearRegression()\n",
        "X=pd.DataFrame([data['wt'],data['wt']**2,data['wt']**3,data['wt']**4,data['wt']**5,data['wt']**6,data['wt']**7,data['wt']**8,data['wt']**9,data['wt']**10,data['wt']**11,data['wt']**12]).T\n",
        "model.fit(X,y=data['mpg'])\n",
        "print('intercept của mô hình',model.intercept_)\n",
        "print('coef của mô hình',model.coef_)\n",
        "print('độ chính xác của mô hình',model.score(X,y=data['mpg']))\n",
        "data.plot(kind = 'scatter', x = 'wt', y='mpg',figsize = (9,9), color = 'black',xlim=(0,6))\n",
        "range = np.arange(1.5,5.5,0.1)\n",
        "predictor = pd.DataFrame([range,range**2,range**3,range**4,range**5,range**6,range**7,range**8,range**9,range**10,range**11,range**12]).T\n",
        "y_pred=model.predict(X=predictor)\n",
        "plt.plot(range,y_pred,color='blue')"
      ],
      "metadata": {
        "id": "7K9uPg2gzT_-"
      },
      "execution_count": null,
      "outputs": []
    },
    {
      "cell_type": "code",
      "source": [
        "model = linear_model.LinearRegression()\n",
        "model.fit(X=data.loc[:,['wt','hp']],y=data['mpg'])\n",
        "print('intercept của mô hình',model.intercept_)\n",
        "print('coef của mô hình',model.coef_)\n",
        "print('độ chính xác của mô hình',model.score(X=data.loc[:,['wt','hp']],y=data['mpg']))\n",
        "\n",
        "\n"
      ],
      "metadata": {
        "id": "bC0-2Zld0L1o"
      },
      "execution_count": null,
      "outputs": []
    },
    {
      "cell_type": "markdown",
      "source": [
        "\n",
        "\n"
      ],
      "metadata": {
        "id": "d9ndlEfL09xQ"
      }
    },
    {
      "cell_type": "code",
      "source": [],
      "metadata": {
        "id": "TIEetdvj3KTF"
      },
      "execution_count": null,
      "outputs": []
    }
  ]
}