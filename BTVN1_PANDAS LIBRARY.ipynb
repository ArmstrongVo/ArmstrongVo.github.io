{
  "nbformat": 4,
  "nbformat_minor": 0,
  "metadata": {
    "colab": {
      "provenance": [],
      "authorship_tag": "ABX9TyN53V9VxcKBWtiW1E478ySG",
      "include_colab_link": true
    },
    "kernelspec": {
      "name": "python3",
      "display_name": "Python 3"
    },
    "language_info": {
      "name": "python"
    }
  },
  "cells": [
    {
      "cell_type": "markdown",
      "metadata": {
        "id": "view-in-github",
        "colab_type": "text"
      },
      "source": [
        "<a href=\"https://colab.research.google.com/github/ArmstrongVo/ArmstrongVo.github.io/blob/main/BTVN1_PANDAS%20LIBRARY.ipynb\" target=\"_parent\"><img src=\"https://colab.research.google.com/assets/colab-badge.svg\" alt=\"Open In Colab\"/></a>"
      ]
    },
    {
      "cell_type": "code",
      "execution_count": 8,
      "metadata": {
        "id": "shX6cPCtPQ5U",
        "colab": {
          "base_uri": "https://localhost:8080/"
        },
        "outputId": "19b147ca-fba0-4f57-95bb-eca7a13e658a"
      },
      "outputs": [
        {
          "output_type": "execute_result",
          "data": {
            "text/plain": [
              "Gold      25\n",
              "Silver    23\n",
              "Bronze    21\n",
              "Name: Medal, dtype: int64"
            ]
          },
          "metadata": {},
          "execution_count": 8
        }
      ],
      "source": [
        "# chọn Norway_ khảo sát số lượng huy chương mỗi loại mà \n",
        "# Norway đạt được trong các kì thế vận hội từ sau năm 1998\n",
        "import numpy as np\n",
        "import pandas as pd\n",
        "url='http://winterolympicsmedals.com/medals.csv'\n",
        "data = pd.read_csv(url)\n",
        "data[(data['Year']>=1998)&(data['NOC']=='NOR')].to_csv('test')\n",
        "url1='test'\n",
        "data1=pd.read_csv(url1)\n",
        "data1['Medal'].value_counts()\n",
        "\n",
        "\n",
        "\n",
        "\n",
        "\n",
        "                                                    "
      ]
    },
    {
      "cell_type": "code",
      "source": [
        "# các môn mà Norway tham gia trong các kì thế vận hội từ 1998\n",
        "import numpy as np\n",
        "import pandas as pd\n",
        "url1='test'\n",
        "data1=pd.read_csv(url1)\n",
        "data1['Medal'].value_counts()\n",
        "data1['Sport'].unique()"
      ],
      "metadata": {
        "colab": {
          "base_uri": "https://localhost:8080/"
        },
        "id": "32xzCQL6Cltq",
        "outputId": "17c0a6f4-19fc-466b-995c-54422f77112f"
      },
      "execution_count": 7,
      "outputs": [
        {
          "output_type": "execute_result",
          "data": {
            "text/plain": [
              "array(['Biathlon', 'Curling', 'Skating', 'Skiing'], dtype=object)"
            ]
          },
          "metadata": {},
          "execution_count": 7
        }
      ]
    },
    {
      "cell_type": "code",
      "source": [
        "# số huy chương mà Norway đạt được ở mỗi bộ môn ở giai đoạn 1998 - 2006\n",
        "import numpy as np\n",
        "import pandas as pd\n",
        "url1='test'\n",
        "data1=pd.read_csv(url1)\n",
        "ex1 = data1.groupby(['Sport'])['Medal'].count()\n",
        "print(ex1)\n",
        "\n"
      ],
      "metadata": {
        "colab": {
          "base_uri": "https://localhost:8080/"
        },
        "id": "QdANK8jIEFOd",
        "outputId": "89da56ba-cf70-4c46-c176-1ef1e72252b6"
      },
      "execution_count": 6,
      "outputs": [
        {
          "output_type": "stream",
          "name": "stdout",
          "text": [
            "Sport\n",
            "Biathlon    17\n",
            "Curling      2\n",
            "Skating      3\n",
            "Skiing      47\n",
            "Name: Medal, dtype: int64\n"
          ]
        }
      ]
    },
    {
      "cell_type": "code",
      "source": [],
      "metadata": {
        "id": "A62E2SBYJmdL"
      },
      "execution_count": null,
      "outputs": []
    }
  ]
}