{
  "nbformat": 4,
  "nbformat_minor": 0,
  "metadata": {
    "colab": {
      "provenance": [],
      "mount_file_id": "1k1i2RSdjzvBxzag3FzCHEo7WeTAhbRBt",
      "authorship_tag": "ABX9TyP9/62reKFKgz0iyvc/Zf4+",
      "include_colab_link": true
    },
    "kernelspec": {
      "name": "python3",
      "display_name": "Python 3"
    },
    "language_info": {
      "name": "python"
    }
  },
  "cells": [
    {
      "cell_type": "markdown",
      "metadata": {
        "id": "view-in-github",
        "colab_type": "text"
      },
      "source": [
        "<a href=\"https://colab.research.google.com/github/ArmstrongVo/ArmstrongVo.github.io/blob/main/Untitled0.ipynb\" target=\"_parent\"><img src=\"https://colab.research.google.com/assets/colab-badge.svg\" alt=\"Open In Colab\"/></a>"
      ]
    },
    {
      "cell_type": "code",
      "execution_count": null,
      "metadata": {
        "id": "-Thtd2Q-0SNv"
      },
      "outputs": [],
      "source": [
        "value1 = int(input('nhập vào số thứ 1'))\n",
        "value2 = int(input ('nhập vào số thứ 2'))\n",
        "tong = value1 + value2\n",
        "print( ' tổng =',tong)"
      ]
    },
    {
      "cell_type": "code",
      "source": [
        "# with open dùng để xử lý file\n",
        "with open ('text.txt',mode='w') as account:\n",
        " account.write(' 20146505 Võ Trọng Luân 10 \\n')\n",
        " account.write(' 20146503 Trần Hữu Long 1 \\n')\n",
        " account.write(' 20146490 Trần Trung Hậu 0 \\n')\n",
        " account.write(' 20146503 Trần Trung Nghiệp 100 \\n')\n",
        " account.write(' 20146505 Võ Trọng A 9 \\n')\n",
        " account.write(' 20146503 Trần Hữu B 1 \\n')\n",
        " account.write(' 20146505 Võ Trọng Luân 8 \\n')\n",
        " account.write(' 20146503 Trần Hữu Long 2 \\n')\n",
        " account.write(' 20146490 Trần Trung Hậu 1 \\n')\n",
        " account.write(' 20146503 Trần Trung Nghiệp 99 \\n')\n",
        " account.write(' 20146505 Võ Trọng A 7 \\n')\n",
        " account.write(' 20146503 Trần Hữu B 5 \\n')"
      ],
      "metadata": {
        "id": "GaWTbYLL1jRJ"
      },
      "execution_count": 12,
      "outputs": []
    },
    {
      "cell_type": "code",
      "source": [
        "with open ('text 1.txt',mode='w') as test :\n",
        "  print (' 20146505 Võ Trọng Luân 10',file = test)"
      ],
      "metadata": {
        "id": "o8u_MD2x4XvY"
      },
      "execution_count": 16,
      "outputs": []
    },
    {
      "cell_type": "code",
      "source": [
        "/*with open ('text 1.txt',mode='r') as test:\n",
        "  print (f'{ \"mssv\" :<10}{\"name\": <20}{\"score\": >4}')\n",
        "  for record in test:\n",
        "    mssv,name,score = record.split()\n",
        "    print(f'{ \"mssv\" :<10}{\"name\": <20}{\"score\": >4}')/*\n",
        "\n"
      ],
      "metadata": {
        "colab": {
          "base_uri": "https://localhost:8080/",
          "height": 252
        },
        "id": "QNw0BuLc5XQi",
        "outputId": "ae0f2bcd-2465-4bcd-e48e-2ddaebfc1330"
      },
      "execution_count": 24,
      "outputs": [
        {
          "output_type": "stream",
          "name": "stdout",
          "text": [
            "mssv      name                score\n"
          ]
        },
        {
          "output_type": "error",
          "ename": "ValueError",
          "evalue": "ignored",
          "traceback": [
            "\u001b[0;31m---------------------------------------------------------------------------\u001b[0m",
            "\u001b[0;31mValueError\u001b[0m                                Traceback (most recent call last)",
            "\u001b[0;32m<ipython-input-24-6f54b27885bf>\u001b[0m in \u001b[0;36m<module>\u001b[0;34m\u001b[0m\n\u001b[1;32m      2\u001b[0m   \u001b[0mprint\u001b[0m \u001b[0;34m(\u001b[0m\u001b[0;34mf'{ \"mssv\" :<10}{\"name\": <20}{\"score\": >4}'\u001b[0m\u001b[0;34m)\u001b[0m\u001b[0;34m\u001b[0m\u001b[0;34m\u001b[0m\u001b[0m\n\u001b[1;32m      3\u001b[0m   \u001b[0;32mfor\u001b[0m \u001b[0mrecord\u001b[0m \u001b[0;32min\u001b[0m \u001b[0mtest\u001b[0m\u001b[0;34m:\u001b[0m\u001b[0;34m\u001b[0m\u001b[0;34m\u001b[0m\u001b[0m\n\u001b[0;32m----> 4\u001b[0;31m     \u001b[0mmssv\u001b[0m\u001b[0;34m,\u001b[0m\u001b[0mname\u001b[0m\u001b[0;34m,\u001b[0m\u001b[0mscore\u001b[0m \u001b[0;34m=\u001b[0m \u001b[0mrecord\u001b[0m\u001b[0;34m.\u001b[0m\u001b[0msplit\u001b[0m\u001b[0;34m(\u001b[0m\u001b[0;34m)\u001b[0m\u001b[0;34m\u001b[0m\u001b[0;34m\u001b[0m\u001b[0m\n\u001b[0m\u001b[1;32m      5\u001b[0m     \u001b[0mprint\u001b[0m\u001b[0;34m(\u001b[0m\u001b[0;34mf'{ \"mssv\" :<10}{\"name\": <20}{\"score\": >4}'\u001b[0m\u001b[0;34m)\u001b[0m\u001b[0;34m\u001b[0m\u001b[0;34m\u001b[0m\u001b[0m\n\u001b[1;32m      6\u001b[0m \u001b[0;34m\u001b[0m\u001b[0m\n",
            "\u001b[0;31mValueError\u001b[0m: too many values to unpack (expected 3)"
          ]
        }
      ]
    },
    {
      "cell_type": "code",
      "source": [
        "import pandas as pd\n",
        "import numpy as np\n",
        "import pandas as pd\n",
        "int time\n",
        "ulr = 'test162.csv'   # đường dẫn nếu nằm trong drive hoặc tệp nếu đã có trong mục tệp\n",
        "dataframe = pd.read_csv(ulr)\n",
        "#dataframe.head(20)  #đọc 20 dòng đầu\n",
        "#dataframe.iloc[10]  # hiển thị dòng số 10\n",
        "#dataframe.iloc[0:4] # hiển thị 4 dòng đầu \n",
        "#dataframe.iloc[:4]   # hiển thị 4 dòng đầu\n",
        "#dataframe.set_index(dataframe['HỌ VÀ TÊN'])   #tìm kiếm trong file trường 'HỌ VÀ TÊN ' xem có nội dung là 'Võ Trọng Luân ' hay không\n",
        "#frame.loc['Võ Trọng Luân']\n",
        "#dataframe[dataframe['KHOA ']=='CKM'].head(5)  # tìm 5 đối tượng thuộc trường KHOA có nội dung là CKM \n",
        "#dataframe[(dataframe['KHOA']=='CKM')& (dataframe['MSSV']==20146505)]\n",
        "#dataframe['ĐIỂM'].min()  \n",
        "#dataframe['KHÓA '].unique()  # có bao nhiêu khóa\n",
        "#dataframe['KHÓA '].value_counts()   ## số lượng đối tượng mỗi khóa\n",
        "#dataframe['KHOA '].unique()\n",
        "#dataframe.drop('KHOA ',axis=1).head(20)\n",
        "#dataframe.drop(['KHOA ','KHÓA '],axis=1).head(20)  # xóa nội dung KHOA và KHÓA\n",
        "#dataframe.drop(dataframe.columns[0:4],axis=1).head(20)\n",
        "#dataframe[dataframe['KHÓA ']!='K19'].head(20)   # xóa theo nội dung\n",
        "#dataframe[dataframe.index !=4].head(20)    # xóa hàng số 4, lưu ý : tính từ 0 thì thực tế là hàng số 5\n",
        "dataframe.groupby('KHOA ').head(20)\n",
        "dataframe.groupby('KHÓA ').count()\n",
        "dataframe.groupby(['KHOA ','KHÓA ']).head(20)\n",
        "dataframe.groupby(['KHOA ','KHÓA ']).count()\n",
        "dataframe.groupby(['KHÓA ','KHOA '])['ĐIỂM'].count()   # nhóm bằng lệnh groupby\n",
        "time = pd.date_range(index=time)\n",
        "dataframe['Acess_Amount']=np.random.randint(1,10,100000)\n",
        "dataframe.resample('2w').sum()\n",
        "\n",
        "\n",
        "\n",
        "### import pandas as pd\n",
        "url = 'http://winterolympicsmedals.com/medals.csv'\n",
        "data = pd.read_csv(url)\n",
        "data\n",
        "\n",
        "\n",
        "\n",
        "\n",
        "\n",
        "\n",
        "\n"
      ],
      "metadata": {
        "colab": {
          "base_uri": "https://localhost:8080/",
          "height": 130
        },
        "id": "HCq2PRu3_D6V",
        "outputId": "561f5002-064b-4d99-caeb-9d93a4a8bcfd"
      },
      "execution_count": 90,
      "outputs": [
        {
          "output_type": "error",
          "ename": "SyntaxError",
          "evalue": "ignored",
          "traceback": [
            "\u001b[0;36m  File \u001b[0;32m\"<ipython-input-90-28fcd7610864>\"\u001b[0;36m, line \u001b[0;32m4\u001b[0m\n\u001b[0;31m    int time\u001b[0m\n\u001b[0m        ^\u001b[0m\n\u001b[0;31mSyntaxError\u001b[0m\u001b[0;31m:\u001b[0m invalid syntax\n"
          ]
        }
      ]
    }
  ]
}